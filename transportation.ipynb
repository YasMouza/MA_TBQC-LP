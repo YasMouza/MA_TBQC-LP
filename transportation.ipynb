{
 "cells": [
  {
   "attachments": {},
   "cell_type": "markdown",
   "metadata": {},
   "source": [
    "Optimierungsprogramm für den effizientesten Weg für den Transport von Gütern zwischen verschiedenen Standorten mit der Interior Point Methode "
   ]
  },
  {
   "cell_type": "code",
   "execution_count": 141,
   "metadata": {},
   "outputs": [],
   "source": [
    "import numpy as np\n",
    "import gurobipy as gp\n",
    "from gurobipy import GRB"
   ]
  },
  {
   "attachments": {},
   "cell_type": "markdown",
   "metadata": {},
   "source": [
    "Es gibt die 4 Standorte, die alle durch Transportrouten miteinander Verbunden sind"
   ]
  },
  {
   "cell_type": "code",
   "execution_count": 142,
   "metadata": {},
   "outputs": [],
   "source": [
    "locations = ['A', 'B', 'C', 'D']"
   ]
  },
  {
   "attachments": {},
   "cell_type": "markdown",
   "metadata": {},
   "source": [
    "\n",
    "Die gegebene Kostenmatrix repräsentiert die Kosten für den Transport von Gütern zwischen verschiedenen Standorten. Die Matrix ist eine quadratische Matrix, bei der jedes Element (i, j) den Kostenwert für den Transport von Standort i zum Standort j angibt."
   ]
  },
  {
   "cell_type": "code",
   "execution_count": 143,
   "metadata": {},
   "outputs": [],
   "source": [
    "# Kostenmatrix der Wege\n",
    "costs = [[0, 1, 2, 40],\n",
    "         [1, 0, 21, 2],\n",
    "         [2, 21, 0, 34],\n",
    "         [40, 2, 34, 0]]\n",
    "\n"
   ]
  },
  {
   "cell_type": "code",
   "execution_count": 144,
   "metadata": {},
   "outputs": [],
   "source": [
    "# Nachfrage zwischen den Standorten\n",
    "demand = [150, 50, 200, 300]\n",
    "\n",
    "# Kapazitäten der Transportwege\n",
    "capacities = {'A': 110, 'B': 100, 'C': 300, 'D': 200}\n",
    "\n",
    "# Anzahl der Standorte\n",
    "num_locations = len(locations)"
   ]
  },
  {
   "attachments": {},
   "cell_type": "markdown",
   "metadata": {},
   "source": [
    "Formulierung des Optimierungsproblems:"
   ]
  },
  {
   "cell_type": "code",
   "execution_count": 145,
   "metadata": {},
   "outputs": [],
   "source": [
    "# Gurobi-Modell erstellen\n",
    "m = gp.Model('Transportation')\n",
    "\n",
    "# Entscheidungsvariablen\n",
    "x = m.addVars(num_locations, num_locations, vtype=GRB.CONTINUOUS, lb=0, name='x')\n",
    "\n",
    "# Zielfunktion: Minimierung der Gesamtkosten\n",
    "m.setObjective(gp.quicksum(costs[i][j] * x[i, j] for i in range(num_locations) for j in range(num_locations)), GRB.MINIMIZE)"
   ]
  },
  {
   "attachments": {},
   "cell_type": "markdown",
   "metadata": {},
   "source": [
    "Constraints bestehend aus Nachfragebedingungen und Kapazitätsbedingungen"
   ]
  },
  {
   "cell_type": "code",
   "execution_count": 146,
   "metadata": {},
   "outputs": [
    {
     "data": {
      "text/plain": [
       "<gurobi.Constr *Awaiting Model Update*>"
      ]
     },
     "execution_count": 146,
     "metadata": {},
     "output_type": "execute_result"
    }
   ],
   "source": [
    "# Nachfragebeschränkungen\n",
    "m.addConstrs(gp.quicksum(x[i, j] for j in range(num_locations)) == demand[i] for i in range(num_locations))\n",
    "\n",
    "\n",
    "# Kapazitätsbeschränkungen\n",
    "m.addConstrs(gp.quicksum(x[i, j] for i in range(num_locations)) <= capacities[locations[j]] for j in range(num_locations))\n",
    "\n",
    "# Transportwege von Standort A zu A, B zu B, C zu C und D zu D ausschließen\n",
    "m.addConstr(x[0, 0] == 0)\n",
    "m.addConstr(x[1, 1] == 0)\n",
    "m.addConstr(x[2, 2] == 0)\n",
    "m.addConstr(x[3, 3] == 0)"
   ]
  },
  {
   "attachments": {},
   "cell_type": "markdown",
   "metadata": {},
   "source": [
    "Ergebnis"
   ]
  },
  {
   "cell_type": "code",
   "execution_count": 147,
   "metadata": {},
   "outputs": [
    {
     "name": "stdout",
     "output_type": "stream",
     "text": [
      "Gurobi Optimizer version 9.5.2 build v9.5.2rc0 (win64)\n",
      "Thread count: 4 physical cores, 8 logical processors, using up to 8 threads\n",
      "Optimize a model with 12 rows, 16 columns and 36 nonzeros\n",
      "Model fingerprint: 0xb26d78fc\n",
      "Coefficient statistics:\n",
      "  Matrix range     [1e+00, 1e+00]\n",
      "  Objective range  [1e+00, 4e+01]\n",
      "  Bounds range     [0e+00, 0e+00]\n",
      "  RHS range        [5e+01, 3e+02]\n",
      "Presolve removed 5 rows and 5 columns\n",
      "Presolve time: 0.02s\n",
      "Presolved: 7 rows, 11 columns, 22 nonzeros\n",
      "\n",
      "Iteration    Objective       Primal Inf.    Dual Inf.      Time\n",
      "       0    7.5967680e+03   5.373613e+01   0.000000e+00      0s\n",
      "       8    1.2580000e+04   0.000000e+00   0.000000e+00      0s\n",
      "\n",
      "Solved in 8 iterations and 0.04 seconds (0.00 work units)\n",
      "Optimal objective  1.258000000e+04\n",
      "Optimal solution found:\n",
      "x[A][A] = 0.0\n",
      "x[A][B] = 0.0\n",
      "x[A][C] = 100.0\n",
      "x[A][D] = 50.0\n",
      "x[B][A] = 0.0\n",
      "x[B][B] = 0.0\n",
      "x[B][C] = 0.0\n",
      "x[B][D] = 50.0\n",
      "x[C][A] = 110.0\n",
      "x[C][B] = 0.0\n",
      "x[C][C] = 0.0\n",
      "x[C][D] = 90.0\n",
      "x[D][A] = 0.0\n",
      "x[D][B] = 100.0\n",
      "x[D][C] = 200.0\n",
      "x[D][D] = 0.0\n"
     ]
    }
   ],
   "source": [
    "# Modell optimieren\n",
    "m.optimize()\n",
    "\n",
    "# Ergebnisse ausgeben\n",
    "if m.status == GRB.OPTIMAL:\n",
    "    print('Optimal solution found:')\n",
    "    for i in range(num_locations):\n",
    "        for j in range(num_locations):\n",
    "            print(f'x[{locations[i]}][{locations[j]}] = {x[i, j].x}')\n",
    "else:\n",
    "    print('No feasible solution found.')"
   ]
  },
  {
   "attachments": {},
   "cell_type": "markdown",
   "metadata": {},
   "source": [
    "Warum funktioniert linear Programming / Simplex hier nicht? \n",
    "\n",
    "In der Realität liegen hier nicht-lineare Constraints vor:\n",
    "- die Kostenfunktion ist aufgrund v. Verkehrsaufkommen, unterschiedlicher Dauer der Transportwege nicht linear \n",
    "   - ergänzen um Kalman-Filter, dann nicht mehr linear"
   ]
  },
  {
   "attachments": {},
   "cell_type": "markdown",
   "metadata": {},
   "source": []
  }
 ],
 "metadata": {
  "kernelspec": {
   "display_name": "Python 3",
   "language": "python",
   "name": "python3"
  },
  "language_info": {
   "codemirror_mode": {
    "name": "ipython",
    "version": 3
   },
   "file_extension": ".py",
   "mimetype": "text/x-python",
   "name": "python",
   "nbconvert_exporter": "python",
   "pygments_lexer": "ipython3",
   "version": "3.9.1"
  },
  "orig_nbformat": 4
 },
 "nbformat": 4,
 "nbformat_minor": 2
}
